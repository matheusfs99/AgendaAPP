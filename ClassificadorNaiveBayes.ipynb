{
  "nbformat": 4,
  "nbformat_minor": 0,
  "metadata": {
    "colab": {
      "name": "ClassificadorNaiveBayes.ipynb",
      "provenance": [],
      "collapsed_sections": [],
      "authorship_tag": "ABX9TyMgIUDpB5/DzfDQNInGnzHK",
      "include_colab_link": true
    },
    "kernelspec": {
      "name": "python3",
      "display_name": "Python 3"
    }
  },
  "cells": [
    {
      "cell_type": "markdown",
      "metadata": {
        "id": "view-in-github",
        "colab_type": "text"
      },
      "source": [
        "<a href=\"https://colab.research.google.com/github/matheusfs99/AgendaAPP/blob/master/ClassificadorNaiveBayes.ipynb\" target=\"_parent\"><img src=\"https://colab.research.google.com/assets/colab-badge.svg\" alt=\"Open In Colab\"/></a>"
      ]
    },
    {
      "cell_type": "code",
      "metadata": {
        "id": "HDn9V9J7qQ6-",
        "colab_type": "code",
        "colab": {}
      },
      "source": [
        "# atribuindo atributos\n",
        "tempo = ['Ensolarado', 'Ensolarado', 'Nublado', 'Chuvoso', 'Chuvoso', \n",
        "         'Chuvoso', 'Nublado', 'Ensolarado', 'Ensolarado', 'Chuvoso', \n",
        "         'Ensolarado', 'Nublado', 'Nublado', 'Chuvoso']\n",
        "temperatura = ['Quente', 'Quente', 'Quente', 'Mormaço', 'Fresco', 'Fresco',\n",
        "               'Fresco', 'Mormaço', 'Fresco', 'Mormaço', 'Mormaço', 'Mormaço',\n",
        "               'Quente', 'Mormaço']\n",
        "humidade = ['Alta', 'Alta', 'Alta', 'Alta', 'Normal', 'Normal', 'Normal',\n",
        "            'Alta', 'Normal', 'Normal', 'Normal', 'Alta', 'Normal', 'Alta']\n",
        "vento = ['Fraco', 'Forte', 'Fraco', 'Fraco', 'Fraco', 'Forte', 'Forte', 'Fraco',\n",
        "         'Fraco', 'Fraco', 'Forte', 'Forte', 'Fraco', 'Forte']\n",
        "\n",
        "# atribuindo variaveis de classe (rotulo)\n",
        "jogo = ['Não', 'Não', 'Sim', 'Sim', 'Sim', 'Não', 'Sim', 'Não', 'Sim',\n",
        "        'Sim', 'Sim', 'Sim', 'Sim', 'Não'] "
      ],
      "execution_count": 0,
      "outputs": []
    },
    {
      "cell_type": "code",
      "metadata": {
        "id": "8v2VkeSYk-1P",
        "colab_type": "code",
        "outputId": "4c5e2b59-2da2-4ee5-b5d4-d9c2a2d3edcb",
        "colab": {
          "base_uri": "https://localhost:8080/",
          "height": 85
        }
      },
      "source": [
        "# importar LabelEncoder\n",
        "from sklearn import preprocessing\n",
        "\n",
        "le = preprocessing.LabelEncoder()\n",
        "\n",
        "#convertendo as strings dos atributos em numeros\n",
        "tempo_codificado = le.fit_transform(tempo)\n",
        "print('tempo: ', tempo_codificado)\n",
        "#output: chuvoso = 0 / ensolarado = 1 / nublado = 2\n",
        "\n",
        "temperatura_codificado = le.fit_transform(temperatura)\n",
        "print('temperatura: ', temperatura_codificado)\n",
        "#output: fresco = 0 / mormaço = 1 / quente = 2\n",
        "\n",
        "humidade_codificado = le.fit_transform(humidade)\n",
        "print('humidade: ', humidade_codificado)\n",
        "#output: alto = 0 / normal = 1\n",
        "\n",
        "vento_codificado = le.fit_transform(vento)\n",
        "print('vento: ', vento_codificado)\n",
        "#output: forte = 0 / fraco = 1"
      ],
      "execution_count": 0,
      "outputs": [
        {
          "output_type": "stream",
          "text": [
            "tempo:  [1 1 2 0 0 0 2 1 1 0 1 2 2 0]\n",
            "temperatura:  [2 2 2 1 0 0 0 1 0 1 1 1 2 1]\n",
            "humidade:  [0 0 0 0 1 1 1 0 1 1 1 0 1 0]\n",
            "vento:  [1 0 1 1 1 0 0 1 1 1 0 0 1 0]\n"
          ],
          "name": "stdout"
        }
      ]
    },
    {
      "cell_type": "code",
      "metadata": {
        "id": "Atb83vvbmo-w",
        "colab_type": "code",
        "outputId": "adca7509-9e69-40d5-e9c8-f94240c1b3d2",
        "colab": {
          "base_uri": "https://localhost:8080/",
          "height": 34
        }
      },
      "source": [
        "#convertendo as strings da classe jogo para numeros\n",
        "classe = le.fit_transform(jogo)\n",
        "print('jogo: ', classe)\n",
        "#output: nao = 0 / sim = 1"
      ],
      "execution_count": 0,
      "outputs": [
        {
          "output_type": "stream",
          "text": [
            "jogo:  [0 0 1 1 1 0 1 0 1 1 1 1 1 0]\n"
          ],
          "name": "stdout"
        }
      ]
    },
    {
      "cell_type": "code",
      "metadata": {
        "id": "F4Ucc6WVnBmM",
        "colab_type": "code",
        "outputId": "b45734f2-5722-491e-f906-ad574e4c6bf6",
        "colab": {
          "base_uri": "https://localhost:8080/",
          "height": 54
        }
      },
      "source": [
        "#combinando atributos (tempo, temperatura, humodade e vento) em uma unica lista de tuplas\n",
        "atributos = list(zip(tempo_codificado, temperatura_codificado, humidade_codificado, vento_codificado))\n",
        "print(atributos)"
      ],
      "execution_count": 0,
      "outputs": [
        {
          "output_type": "stream",
          "text": [
            "[(1, 2, 0, 1), (1, 2, 0, 0), (2, 2, 0, 1), (0, 1, 0, 1), (0, 0, 1, 1), (0, 0, 1, 0), (2, 0, 1, 0), (1, 1, 0, 1), (1, 0, 1, 1), (0, 1, 1, 1), (1, 1, 1, 0), (2, 1, 0, 0), (2, 2, 1, 1), (0, 1, 0, 0)]\n"
          ],
          "name": "stdout"
        }
      ]
    },
    {
      "cell_type": "code",
      "metadata": {
        "id": "JY1Z_YJBnTR6",
        "colab_type": "code",
        "outputId": "eaafaf03-aba6-428a-e266-88cc55095536",
        "colab": {
          "base_uri": "https://localhost:8080/",
          "height": 51
        }
      },
      "source": [
        "#importar o modelo naive bayes gaussiano\n",
        "from sklearn.naive_bayes import GaussianNB\n",
        "\n",
        "meu_classificador = GaussianNB()\n",
        "\n",
        "#trinar o modelo usando o conjunto de treinamento\n",
        "meu_classificador.fit(atributos, classe)\n",
        "\n",
        "#classificar (prever) saida \n",
        "conjunto_teste = [[0,1,0,1]] #4 = [['chuvoso', 'mormaco', 'alto', 'fraco']]\n",
        "classificado = meu_classificador.predict(conjunto_teste)\n",
        "\n",
        "print('valor classificado como: ', classificado)\n",
        "\n",
        "conjunto_teste2 = [[1,1,1,1]] # tempo = ensolarado, temperatura = mormaço, humidade = normal, vento = fraco\n",
        "\n",
        "print('valor classificado como: ', meu_classificador.predict(conjunto_teste2))"
      ],
      "execution_count": 0,
      "outputs": [
        {
          "output_type": "stream",
          "text": [
            "valor classificado como:  [0]\n",
            "valor classificado como:  [1]\n"
          ],
          "name": "stdout"
        }
      ]
    }
  ]
}